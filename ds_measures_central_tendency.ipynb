{
 "cells": [
  {
   "cell_type": "markdown",
   "id": "aefd911a",
   "metadata": {},
   "source": [
    "1.1 exercise"
   ]
  },
  {
   "cell_type": "code",
   "execution_count": 25,
   "id": "38708d3f",
   "metadata": {},
   "outputs": [],
   "source": [
    "# Median is a unique value. The middle number. \n",
    "# If there is two middle number, the median is average of the middle two numbers"
   ]
  },
  {
   "cell_type": "markdown",
   "id": "914ab193",
   "metadata": {},
   "source": [
    "1.2 exercise"
   ]
  },
  {
   "cell_type": "code",
   "execution_count": 28,
   "id": "ca891b23",
   "metadata": {},
   "outputs": [
    {
     "name": "stdout",
     "output_type": "stream",
     "text": [
      "mean is 6.72\n",
      "median is 7\n",
      "mode is 7\n"
     ]
    }
   ],
   "source": [
    "import statistics as stats\n",
    "data = [4, 7, 5, 9, 8, 6, 7, 7, 8, 5, 6, 9, 8, 5, 8, 7, 4, 7, 3, 6, 8, 9, 7, 6, 9]\n",
    "mean_value = stats.mean(data)\n",
    "median_value = stats.median(data)\n",
    "mode_value = stats.mode(data)\n",
    "print(\"mean is\", mean_value)\n",
    "print(\"median is\", median_value)\n",
    "print(\"mode is\", mode_value)"
   ]
  },
  {
   "cell_type": "code",
   "execution_count": 29,
   "id": "89c1c959",
   "metadata": {},
   "outputs": [],
   "source": [
    "data_dictionary = { \"mean\": mean_value, \"median\": median_value, \"mode\": mode_value}"
   ]
  },
  {
   "cell_type": "code",
   "execution_count": 30,
   "id": "2882ddb4",
   "metadata": {},
   "outputs": [
    {
     "data": {
      "text/plain": [
       "{'mean': 6.72, 'median': 7, 'mode': 7}"
      ]
     },
     "execution_count": 30,
     "metadata": {},
     "output_type": "execute_result"
    }
   ],
   "source": [
    "data_dictionary"
   ]
  },
  {
   "cell_type": "code",
   "execution_count": 31,
   "id": "c8b568d9",
   "metadata": {},
   "outputs": [
    {
     "data": {
      "text/plain": [
       "6.72"
      ]
     },
     "execution_count": 31,
     "metadata": {},
     "output_type": "execute_result"
    }
   ],
   "source": [
    "data_dictionary[\"mean\"]"
   ]
  },
  {
   "cell_type": "code",
   "execution_count": 32,
   "id": "a5da1603",
   "metadata": {},
   "outputs": [
    {
     "data": {
      "text/plain": [
       "7"
      ]
     },
     "execution_count": 32,
     "metadata": {},
     "output_type": "execute_result"
    }
   ],
   "source": [
    "data_dictionary[\"median\"]"
   ]
  },
  {
   "cell_type": "code",
   "execution_count": 33,
   "id": "a15f8e19",
   "metadata": {},
   "outputs": [
    {
     "data": {
      "text/plain": [
       "7"
      ]
     },
     "execution_count": 33,
     "metadata": {},
     "output_type": "execute_result"
    }
   ],
   "source": [
    "data_dictionary[\"mode\"]"
   ]
  },
  {
   "cell_type": "markdown",
   "id": "0e3e7eb3",
   "metadata": {},
   "source": [
    "1.3 exercise"
   ]
  },
  {
   "cell_type": "code",
   "execution_count": 34,
   "id": "74668c52",
   "metadata": {},
   "outputs": [],
   "source": [
    "# to calculate median is necessary sort values"
   ]
  },
  {
   "cell_type": "markdown",
   "id": "2f8a1bca",
   "metadata": {},
   "source": [
    "1.4 exercise"
   ]
  },
  {
   "cell_type": "code",
   "execution_count": 35,
   "id": "1f7a760c",
   "metadata": {},
   "outputs": [],
   "source": [
    "# making average of middle two values"
   ]
  },
  {
   "cell_type": "markdown",
   "id": "4ffc3334",
   "metadata": {},
   "source": [
    "1.5 exercise"
   ]
  },
  {
   "cell_type": "code",
   "execution_count": 36,
   "id": "51f56559",
   "metadata": {},
   "outputs": [],
   "source": [
    "# they are very far values from majority of other values. Mean is mor susceptible with outliers in the data"
   ]
  },
  {
   "cell_type": "code",
   "execution_count": null,
   "id": "b989d4ac",
   "metadata": {},
   "outputs": [],
   "source": []
  }
 ],
 "metadata": {
  "kernelspec": {
   "display_name": "Python 3 (ipykernel)",
   "language": "python",
   "name": "python3"
  },
  "language_info": {
   "codemirror_mode": {
    "name": "ipython",
    "version": 3
   },
   "file_extension": ".py",
   "mimetype": "text/x-python",
   "name": "python",
   "nbconvert_exporter": "python",
   "pygments_lexer": "ipython3",
   "version": "3.9.7"
  }
 },
 "nbformat": 4,
 "nbformat_minor": 5
}
