{
 "cells": [
  {
   "cell_type": "markdown",
   "id": "34297e16",
   "metadata": {},
   "source": [
    "## exercise simple iterations"
   ]
  },
  {
   "cell_type": "markdown",
   "id": "34bfc02b",
   "metadata": {},
   "source": [
    "1.1 exercise"
   ]
  },
  {
   "cell_type": "code",
   "execution_count": 1,
   "id": "808d2e08",
   "metadata": {},
   "outputs": [
    {
     "name": "stdout",
     "output_type": "stream",
     "text": [
      "10\n",
      "11\n",
      "12\n",
      "13\n",
      "14\n",
      "15\n",
      "16\n",
      "17\n",
      "18\n",
      "19\n",
      "20\n",
      "21\n",
      "22\n",
      "23\n",
      "24\n",
      "25\n",
      "26\n",
      "27\n",
      "28\n",
      "29\n",
      "30\n"
     ]
    }
   ],
   "source": [
    "for i in range(10, 31):\n",
    "    print(i)"
   ]
  },
  {
   "cell_type": "code",
   "execution_count": 2,
   "id": "d583c464",
   "metadata": {},
   "outputs": [
    {
     "name": "stdout",
     "output_type": "stream",
     "text": [
      "10\n",
      "13\n",
      "16\n",
      "19\n",
      "22\n",
      "25\n",
      "28\n"
     ]
    }
   ],
   "source": [
    "for i in range(10, 31, 3):\n",
    "    print(i)"
   ]
  },
  {
   "cell_type": "markdown",
   "id": "10c7a1db",
   "metadata": {},
   "source": [
    "1.2 exercise"
   ]
  },
  {
   "cell_type": "code",
   "execution_count": 3,
   "id": "3473561c",
   "metadata": {},
   "outputs": [
    {
     "name": "stdout",
     "output_type": "stream",
     "text": [
      "10\n",
      "15\n",
      "20\n",
      "25\n",
      "30\n"
     ]
    }
   ],
   "source": [
    "for i in range(10, 31):\n",
    "    if (i % 5) == 0:\n",
    "        print(i)"
   ]
  },
  {
   "cell_type": "markdown",
   "id": "93a522e9",
   "metadata": {},
   "source": [
    "1.3 exercise"
   ]
  },
  {
   "cell_type": "code",
   "execution_count": 4,
   "id": "3f722c41",
   "metadata": {},
   "outputs": [
    {
     "name": "stdout",
     "output_type": "stream",
     "text": [
      "*\n",
      "***\n",
      "*****\n"
     ]
    }
   ],
   "source": [
    "for i in range(1, 6, 2):\n",
    "    print(\"*\"*i)"
   ]
  },
  {
   "cell_type": "markdown",
   "id": "ec06a2b5",
   "metadata": {},
   "source": [
    "1.4 exercise"
   ]
  },
  {
   "cell_type": "code",
   "execution_count": 6,
   "id": "54563aeb",
   "metadata": {},
   "outputs": [
    {
     "name": "stdout",
     "output_type": "stream",
     "text": [
      "  *\n",
      " ***\n",
      "*****\n"
     ]
    }
   ],
   "source": [
    "a = 3\n",
    "for i in range(1, 6, 2):\n",
    "    a = a - 1\n",
    "    print(\" \"*a+\"*\"*i)"
   ]
  },
  {
   "cell_type": "markdown",
   "id": "f8883e60",
   "metadata": {},
   "source": [
    "1.5 exercise"
   ]
  },
  {
   "cell_type": "code",
   "execution_count": 16,
   "id": "a4907c78",
   "metadata": {},
   "outputs": [
    {
     "name": "stdout",
     "output_type": "stream",
     "text": [
      "please, enter a number 12\n",
      "factorial is 479001600\n"
     ]
    }
   ],
   "source": [
    "num = input (\"please, enter a number \")\n",
    "resul = 1\n",
    "for i in range(int(num), 0, -1):\n",
    "    resul *= i\n",
    "print(\"factorial is\",resul)"
   ]
  },
  {
   "cell_type": "code",
   "execution_count": 18,
   "id": "a7eb7c7b",
   "metadata": {},
   "outputs": [
    {
     "data": {
      "text/plain": [
       "479001600"
      ]
     },
     "execution_count": 18,
     "metadata": {},
     "output_type": "execute_result"
    }
   ],
   "source": [
    "import math\n",
    "math.factorial(12) # n is the positive integer for which we want to calculate the factorial"
   ]
  },
  {
   "cell_type": "markdown",
   "id": "cc5e6e30",
   "metadata": {},
   "source": [
    "2.1 exercise"
   ]
  },
  {
   "cell_type": "code",
   "execution_count": 20,
   "id": "750666ea",
   "metadata": {},
   "outputs": [
    {
     "name": "stdout",
     "output_type": "stream",
     "text": [
      "12\n",
      "6\n",
      "12\n",
      "93\n",
      "783\n",
      "330\n"
     ]
    }
   ],
   "source": [
    "x = [12,43,4,1,6,343,10, 34, 12, 93, 783, 330, 896, 1, 55]\n",
    "for i in x:\n",
    "    if i % 3 == 0:\n",
    "        print(i)"
   ]
  },
  {
   "cell_type": "markdown",
   "id": "52215425",
   "metadata": {},
   "source": [
    "2.2 exercise"
   ]
  },
  {
   "cell_type": "code",
   "execution_count": 30,
   "id": "e50a5b2a",
   "metadata": {},
   "outputs": [
    {
     "data": {
      "text/plain": [
       "[43, 343, 93, 783]"
      ]
     },
     "execution_count": 30,
     "metadata": {},
     "output_type": "execute_result"
    }
   ],
   "source": [
    "x = [12,43,4,1,6,343,10, 34, 12, 93, 783, 330, 896, 1, 55]\n",
    "output_list = []\n",
    "for i in x:\n",
    "    if (str(i)[len(str(i))-1]) == '3':\n",
    "        output_list.append(i)\n",
    "output_list"
   ]
  },
  {
   "cell_type": "markdown",
   "id": "75690921",
   "metadata": {},
   "source": [
    "2.3 exercise"
   ]
  },
  {
   "cell_type": "code",
   "execution_count": 31,
   "id": "fff50263",
   "metadata": {},
   "outputs": [
    {
     "data": {
      "text/plain": [
       "1"
      ]
     },
     "execution_count": 31,
     "metadata": {},
     "output_type": "execute_result"
    }
   ],
   "source": [
    "min(x)"
   ]
  },
  {
   "cell_type": "code",
   "execution_count": 32,
   "id": "9e57cd91",
   "metadata": {},
   "outputs": [
    {
     "name": "stdout",
     "output_type": "stream",
     "text": [
      "1\n"
     ]
    }
   ],
   "source": [
    "minimum=x[0]\n",
    "for i in x:\n",
    "    if i < minimum:\n",
    "        minimum = i\n",
    "print(minimum)"
   ]
  },
  {
   "cell_type": "markdown",
   "id": "b50de2f8",
   "metadata": {},
   "source": [
    "2.4 exercise"
   ]
  },
  {
   "cell_type": "code",
   "execution_count": 33,
   "id": "1dba5f6e",
   "metadata": {},
   "outputs": [
    {
     "data": {
      "text/plain": [
       "896"
      ]
     },
     "execution_count": 33,
     "metadata": {},
     "output_type": "execute_result"
    }
   ],
   "source": [
    "max(x)"
   ]
  },
  {
   "cell_type": "code",
   "execution_count": 36,
   "id": "384f5d0a",
   "metadata": {},
   "outputs": [
    {
     "name": "stdout",
     "output_type": "stream",
     "text": [
      "896\n"
     ]
    }
   ],
   "source": [
    "maximum=x[0]\n",
    "for i in x:\n",
    "    if i > maximum:\n",
    "        maximum = i\n",
    "print(maximum)"
   ]
  },
  {
   "cell_type": "markdown",
   "id": "0811bf51",
   "metadata": {},
   "source": [
    "3.1 exercise"
   ]
  },
  {
   "cell_type": "code",
   "execution_count": 37,
   "id": "bca7a759",
   "metadata": {},
   "outputs": [],
   "source": [
    "word_freq = {'love': 25, 'conversation': 1, 'every': 6, \"we're\": 1, 'plate': 1, 'sour': 1, 'jukebox': 1, 'now': 11, 'taxi': 1, 'fast': 1, 'bag': 1, 'man': 1, 'push': 3, 'baby': 14, 'going': 1, 'you': 16, \"don't\": 2, 'one': 1, 'mind': 2, 'backseat': 1, 'friends': 1, 'then': 3, 'know': 2}"
   ]
  },
  {
   "cell_type": "code",
   "execution_count": 38,
   "id": "59160569",
   "metadata": {},
   "outputs": [
    {
     "data": {
      "text/plain": [
       "{'love': 25,\n",
       " 'conversation': 1,\n",
       " 'every': 6,\n",
       " \"we're\": 1,\n",
       " 'plate': 1,\n",
       " 'sour': 1,\n",
       " 'jukebox': 1,\n",
       " 'now': 11,\n",
       " 'taxi': 1,\n",
       " 'fast': 1,\n",
       " 'bag': 1,\n",
       " 'man': 1,\n",
       " 'push': 3,\n",
       " 'baby': 14,\n",
       " 'going': 1,\n",
       " 'you': 16,\n",
       " \"don't\": 2,\n",
       " 'one': 1,\n",
       " 'mind': 2,\n",
       " 'backseat': 1,\n",
       " 'friends': 1,\n",
       " 'then': 3,\n",
       " 'know': 2}"
      ]
     },
     "execution_count": 38,
     "metadata": {},
     "output_type": "execute_result"
    }
   ],
   "source": [
    "word_freq"
   ]
  },
  {
   "cell_type": "code",
   "execution_count": 39,
   "id": "f906d745",
   "metadata": {},
   "outputs": [
    {
     "name": "stdout",
     "output_type": "stream",
     "text": [
      "conversation\n",
      "we're\n",
      "plate\n",
      "sour\n",
      "jukebox\n",
      "taxi\n",
      "fast\n",
      "bag\n",
      "man\n",
      "going\n",
      "don't\n",
      "one\n",
      "mind\n",
      "backseat\n",
      "friends\n",
      "know\n"
     ]
    }
   ],
   "source": [
    "for key, value in word_freq.items():\n",
    "    if value < 3:\n",
    "        print (key)"
   ]
  },
  {
   "cell_type": "markdown",
   "id": "9de229ec",
   "metadata": {},
   "source": [
    "3.2 exercise"
   ]
  },
  {
   "cell_type": "code",
   "execution_count": 46,
   "id": "3361cbe3",
   "metadata": {},
   "outputs": [
    {
     "data": {
      "text/plain": [
       "'love'"
      ]
     },
     "execution_count": 46,
     "metadata": {},
     "output_type": "execute_result"
    }
   ],
   "source": [
    "freq = list(word_freq.values())[0]\n",
    "word = list(word_freq.keys())[0]\n",
    "for key, value in word_freq.items():\n",
    "    if value > freq:\n",
    "        freq = value\n",
    "        word = key\n",
    "word"
   ]
  },
  {
   "cell_type": "code",
   "execution_count": null,
   "id": "ad0be66a",
   "metadata": {},
   "outputs": [],
   "source": []
  }
 ],
 "metadata": {
  "kernelspec": {
   "display_name": "Python 3 (ipykernel)",
   "language": "python",
   "name": "python3"
  },
  "language_info": {
   "codemirror_mode": {
    "name": "ipython",
    "version": 3
   },
   "file_extension": ".py",
   "mimetype": "text/x-python",
   "name": "python",
   "nbconvert_exporter": "python",
   "pygments_lexer": "ipython3",
   "version": "3.9.7"
  }
 },
 "nbformat": 4,
 "nbformat_minor": 5
}
