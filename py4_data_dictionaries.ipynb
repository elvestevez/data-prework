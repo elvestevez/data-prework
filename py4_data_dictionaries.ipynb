{
 "cells": [
  {
   "cell_type": "markdown",
   "id": "9ea4821a",
   "metadata": {},
   "source": [
    "1.1 exercise"
   ]
  },
  {
   "cell_type": "code",
   "execution_count": 6,
   "id": "0563698b",
   "metadata": {},
   "outputs": [],
   "source": [
    "word_freq = {\n",
    "  'love': 25,\n",
    "  'conversation': 1,\n",
    "  'every': 6,\n",
    "  \"we're\": 1,\n",
    "  'plate': 1,\n",
    "  'sour': 1,\n",
    "  'jukebox': 1,\n",
    "  'now': 11,\n",
    "  'taxi': 1,\n",
    "  'fast': 1,\n",
    "  'bag': 1,\n",
    "  'man': 1,\n",
    "  'push': 3,\n",
    "  'baby': 14,\n",
    "  'going': 1,\n",
    "  'you': 16,\n",
    "  \"don't\": 2,\n",
    "  'one': 1,\n",
    "  'mind': 2,\n",
    "  'backseat': 1,\n",
    "  'friends': 1,\n",
    "  'then': 3,\n",
    "  'know': 2\n",
    "}"
   ]
  },
  {
   "cell_type": "code",
   "execution_count": 7,
   "id": "dd96e107",
   "metadata": {},
   "outputs": [
    {
     "data": {
      "text/plain": [
       "23"
      ]
     },
     "execution_count": 7,
     "metadata": {},
     "output_type": "execute_result"
    }
   ],
   "source": [
    "len(word_freq)"
   ]
  },
  {
   "cell_type": "code",
   "execution_count": 8,
   "id": "4bd50e0c",
   "metadata": {},
   "outputs": [
    {
     "data": {
      "text/plain": [
       "dict_keys(['love', 'conversation', 'every', \"we're\", 'plate', 'sour', 'jukebox', 'now', 'taxi', 'fast', 'bag', 'man', 'push', 'baby', 'going', 'you', \"don't\", 'one', 'mind', 'backseat', 'friends', 'then', 'know'])"
      ]
     },
     "execution_count": 8,
     "metadata": {},
     "output_type": "execute_result"
    }
   ],
   "source": [
    "word_freq.keys()"
   ]
  },
  {
   "cell_type": "code",
   "execution_count": 10,
   "id": "c21be1e3",
   "metadata": {},
   "outputs": [
    {
     "data": {
      "text/plain": [
       "1"
      ]
     },
     "execution_count": 10,
     "metadata": {},
     "output_type": "execute_result"
    }
   ],
   "source": [
    "word_freq['friends']"
   ]
  },
  {
   "cell_type": "code",
   "execution_count": 11,
   "id": "98bc33a0",
   "metadata": {},
   "outputs": [
    {
     "data": {
      "text/plain": [
       "1"
      ]
     },
     "execution_count": 11,
     "metadata": {},
     "output_type": "execute_result"
    }
   ],
   "source": [
    "word_freq['taxi']"
   ]
  },
  {
   "cell_type": "code",
   "execution_count": 12,
   "id": "e8d215c6",
   "metadata": {},
   "outputs": [
    {
     "data": {
      "text/plain": [
       "1"
      ]
     },
     "execution_count": 12,
     "metadata": {},
     "output_type": "execute_result"
    }
   ],
   "source": [
    "word_freq['jukebox']"
   ]
  },
  {
   "cell_type": "code",
   "execution_count": 13,
   "id": "23e3b183",
   "metadata": {},
   "outputs": [
    {
     "data": {
      "text/plain": [
       "False"
      ]
     },
     "execution_count": 13,
     "metadata": {},
     "output_type": "execute_result"
    }
   ],
   "source": [
    "'begin' in word_freq.keys()"
   ]
  },
  {
   "cell_type": "code",
   "execution_count": 14,
   "id": "2c753ee8",
   "metadata": {},
   "outputs": [
    {
     "data": {
      "text/plain": [
       "True"
      ]
     },
     "execution_count": 14,
     "metadata": {},
     "output_type": "execute_result"
    }
   ],
   "source": [
    "'taxi' in word_freq.keys()"
   ]
  },
  {
   "cell_type": "code",
   "execution_count": 18,
   "id": "f8e54496",
   "metadata": {},
   "outputs": [],
   "source": [
    "word_freq['begin'] = 1\n",
    "word_freq['start'] = 2\n",
    "word_freq['over'] = 1\n",
    "word_freq['body'] = 17"
   ]
  },
  {
   "cell_type": "code",
   "execution_count": 19,
   "id": "7156dc7c",
   "metadata": {},
   "outputs": [
    {
     "data": {
      "text/plain": [
       "{'love': 25,\n",
       " 'conversation': 1,\n",
       " 'every': 6,\n",
       " \"we're\": 1,\n",
       " 'plate': 1,\n",
       " 'sour': 1,\n",
       " 'jukebox': 1,\n",
       " 'now': 11,\n",
       " 'taxi': 1,\n",
       " 'fast': 1,\n",
       " 'bag': 1,\n",
       " 'man': 1,\n",
       " 'push': 3,\n",
       " 'baby': 14,\n",
       " 'going': 1,\n",
       " 'you': 16,\n",
       " \"don't\": 2,\n",
       " 'one': 1,\n",
       " 'mind': 2,\n",
       " 'backseat': 1,\n",
       " 'friends': 1,\n",
       " 'then': 3,\n",
       " 'know': 2,\n",
       " 'begin': 1,\n",
       " 'start': 2,\n",
       " 'over': 1,\n",
       " 'body': 17}"
      ]
     },
     "execution_count": 19,
     "metadata": {},
     "output_type": "execute_result"
    }
   ],
   "source": [
    "word_freq"
   ]
  },
  {
   "cell_type": "code",
   "execution_count": 21,
   "id": "a6cb4429",
   "metadata": {},
   "outputs": [
    {
     "data": {
      "text/plain": [
       "['love',\n",
       " 'conversation',\n",
       " 'every',\n",
       " \"we're\",\n",
       " 'plate',\n",
       " 'sour',\n",
       " 'jukebox',\n",
       " 'now',\n",
       " 'taxi',\n",
       " 'fast',\n",
       " 'bag',\n",
       " 'man',\n",
       " 'push',\n",
       " 'baby',\n",
       " 'going',\n",
       " 'you',\n",
       " \"don't\",\n",
       " 'one',\n",
       " 'mind',\n",
       " 'backseat',\n",
       " 'friends',\n",
       " 'then',\n",
       " 'know',\n",
       " 'begin',\n",
       " 'start',\n",
       " 'over',\n",
       " 'body']"
      ]
     },
     "execution_count": 21,
     "metadata": {},
     "output_type": "execute_result"
    }
   ],
   "source": [
    "list(word_freq.keys())"
   ]
  },
  {
   "cell_type": "code",
   "execution_count": 22,
   "id": "34250402",
   "metadata": {},
   "outputs": [],
   "source": [
    "word = list(word_freq.keys())"
   ]
  },
  {
   "cell_type": "code",
   "execution_count": 23,
   "id": "6ff1c86b",
   "metadata": {},
   "outputs": [
    {
     "data": {
      "text/plain": [
       "['love',\n",
       " 'conversation',\n",
       " 'every',\n",
       " \"we're\",\n",
       " 'plate',\n",
       " 'sour',\n",
       " 'jukebox',\n",
       " 'now',\n",
       " 'taxi',\n",
       " 'fast',\n",
       " 'bag',\n",
       " 'man',\n",
       " 'push',\n",
       " 'baby',\n",
       " 'going',\n",
       " 'you',\n",
       " \"don't\",\n",
       " 'one',\n",
       " 'mind',\n",
       " 'backseat',\n",
       " 'friends',\n",
       " 'then',\n",
       " 'know',\n",
       " 'begin',\n",
       " 'start',\n",
       " 'over',\n",
       " 'body']"
      ]
     },
     "execution_count": 23,
     "metadata": {},
     "output_type": "execute_result"
    }
   ],
   "source": [
    "word"
   ]
  },
  {
   "cell_type": "code",
   "execution_count": 25,
   "id": "1670f20a",
   "metadata": {},
   "outputs": [
    {
     "name": "stdout",
     "output_type": "stream",
     "text": [
      "first word in the dictionary is love and the frequency is 25\n"
     ]
    }
   ],
   "source": [
    "print(\"first word in the dictionary is\", word[0], \"and the frequency is\", word_freq[word[0]])"
   ]
  },
  {
   "cell_type": "code",
   "execution_count": 27,
   "id": "b56a7074",
   "metadata": {},
   "outputs": [
    {
     "name": "stdout",
     "output_type": "stream",
     "text": [
      "last word in the dictionary is body and the frequency is 17\n"
     ]
    }
   ],
   "source": [
    "print(\"last word in the dictionary is\", word[len(word)-1], \"and the frequency is\", word_freq[word[len(word)-1]])"
   ]
  },
  {
   "cell_type": "markdown",
   "id": "be19a550",
   "metadata": {},
   "source": [
    "1.2 exercise"
   ]
  },
  {
   "cell_type": "code",
   "execution_count": 28,
   "id": "56743d00",
   "metadata": {},
   "outputs": [],
   "source": [
    "word_freq['love'] = 18 # if exists key, update value"
   ]
  },
  {
   "cell_type": "code",
   "execution_count": 29,
   "id": "973b4872",
   "metadata": {},
   "outputs": [
    {
     "data": {
      "text/plain": [
       "18"
      ]
     },
     "execution_count": 29,
     "metadata": {},
     "output_type": "execute_result"
    }
   ],
   "source": [
    "word_freq['love'] "
   ]
  },
  {
   "cell_type": "markdown",
   "id": "b6cc7072",
   "metadata": {},
   "source": [
    "1.3 exercise"
   ]
  },
  {
   "cell_type": "code",
   "execution_count": 38,
   "id": "0daec6c8",
   "metadata": {},
   "outputs": [],
   "source": [
    "word_freq['play'] = 18 # add value, doesn't exists"
   ]
  },
  {
   "cell_type": "code",
   "execution_count": 39,
   "id": "c4da4e20",
   "metadata": {},
   "outputs": [
    {
     "data": {
      "text/plain": [
       "dict_values([18, 1, 6, 1, 1, 1, 1, 11, 1, 1, 1, 1, 3, 14, 1, 16, 2, 1, 2, 1, 1, 3, 2, 1, 2, 1, 17, 18])"
      ]
     },
     "execution_count": 39,
     "metadata": {},
     "output_type": "execute_result"
    }
   ],
   "source": [
    "word_freq.values()"
   ]
  },
  {
   "cell_type": "code",
   "execution_count": 40,
   "id": "32622d83",
   "metadata": {},
   "outputs": [
    {
     "data": {
      "text/plain": [
       "{'love': 18,\n",
       " 'conversation': 1,\n",
       " 'every': 6,\n",
       " \"we're\": 1,\n",
       " 'plate': 1,\n",
       " 'sour': 1,\n",
       " 'jukebox': 1,\n",
       " 'now': 11,\n",
       " 'taxi': 1,\n",
       " 'fast': 1,\n",
       " 'bag': 1,\n",
       " 'man': 1,\n",
       " 'push': 3,\n",
       " 'baby': 14,\n",
       " 'going': 1,\n",
       " 'you': 16,\n",
       " \"don't\": 2,\n",
       " 'one': 1,\n",
       " 'mind': 2,\n",
       " 'backseat': 1,\n",
       " 'friends': 1,\n",
       " 'then': 3,\n",
       " 'know': 2,\n",
       " 'begin': 1,\n",
       " 'start': 2,\n",
       " 'over': 1,\n",
       " 'body': 17,\n",
       " 'play': 18}"
      ]
     },
     "execution_count": 40,
     "metadata": {},
     "output_type": "execute_result"
    }
   ],
   "source": [
    "word_freq"
   ]
  },
  {
   "cell_type": "code",
   "execution_count": null,
   "id": "7d4caf50",
   "metadata": {},
   "outputs": [],
   "source": []
  }
 ],
 "metadata": {
  "kernelspec": {
   "display_name": "Python 3 (ipykernel)",
   "language": "python",
   "name": "python3"
  },
  "language_info": {
   "codemirror_mode": {
    "name": "ipython",
    "version": 3
   },
   "file_extension": ".py",
   "mimetype": "text/x-python",
   "name": "python",
   "nbconvert_exporter": "python",
   "pygments_lexer": "ipython3",
   "version": "3.9.7"
  }
 },
 "nbformat": 4,
 "nbformat_minor": 5
}
