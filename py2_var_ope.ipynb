{
 "cells": [
  {
   "cell_type": "markdown",
   "id": "a702ca20",
   "metadata": {},
   "source": [
    "## exercise conditional statements"
   ]
  },
  {
   "cell_type": "markdown",
   "id": "fc342b5b",
   "metadata": {},
   "source": [
    "1.1. exercise even, odd"
   ]
  },
  {
   "cell_type": "code",
   "execution_count": 11,
   "id": "4cbb397e",
   "metadata": {},
   "outputs": [
    {
     "name": "stdout",
     "output_type": "stream",
     "text": [
      "Please, enter a number 12\n"
     ]
    }
   ],
   "source": [
    "num1 = input(\"Please, enter a number \")"
   ]
  },
  {
   "cell_type": "code",
   "execution_count": 12,
   "id": "c9000420",
   "metadata": {},
   "outputs": [
    {
     "name": "stdout",
     "output_type": "stream",
     "text": [
      "12 number is even\n"
     ]
    }
   ],
   "source": [
    "if (int(num1) % 2) == 0:\n",
    "    print(num1, \"number is even\")\n",
    "else:\n",
    "    print(num1, \"number is odd\")"
   ]
  },
  {
   "cell_type": "code",
   "execution_count": 13,
   "id": "3824bf13",
   "metadata": {},
   "outputs": [
    {
     "name": "stdout",
     "output_type": "stream",
     "text": [
      "Please, enter a number 13\n"
     ]
    }
   ],
   "source": [
    "num2 = input(\"Please, enter a number \")"
   ]
  },
  {
   "cell_type": "code",
   "execution_count": 15,
   "id": "463237c7",
   "metadata": {},
   "outputs": [
    {
     "name": "stdout",
     "output_type": "stream",
     "text": [
      "13 number is odd\n"
     ]
    }
   ],
   "source": [
    "if (int(num2) % 2) == 0:\n",
    "    print(num2, \"number is even\")\n",
    "else:\n",
    "    print(num2, \"number is odd\")"
   ]
  },
  {
   "cell_type": "code",
   "execution_count": 19,
   "id": "f989089d",
   "metadata": {},
   "outputs": [
    {
     "name": "stdout",
     "output_type": "stream",
     "text": [
      "Please, enter a number aaa\n"
     ]
    }
   ],
   "source": [
    "num3 = input(\"Please, enter a number \")"
   ]
  },
  {
   "cell_type": "code",
   "execution_count": 20,
   "id": "3a4f9584",
   "metadata": {},
   "outputs": [
    {
     "name": "stdout",
     "output_type": "stream",
     "text": [
      "aaa is not a number\n"
     ]
    }
   ],
   "source": [
    "if num3.isdigit() == True:\n",
    "    if (int(num3) % 2) == 0:\n",
    "        print(num3, \"number is even\")\n",
    "    else:\n",
    "        print(num3, \"number is odd\")\n",
    "else:\n",
    "    print(num3, \"is not a number\")"
   ]
  },
  {
   "cell_type": "markdown",
   "id": "2406909e",
   "metadata": {},
   "source": [
    "1.2 exercise positive, negative, zero"
   ]
  },
  {
   "cell_type": "code",
   "execution_count": 46,
   "id": "7bb4267f",
   "metadata": {},
   "outputs": [
    {
     "name": "stdout",
     "output_type": "stream",
     "text": [
      "Please, enter a number 2\n"
     ]
    }
   ],
   "source": [
    "num4 = input(\"Please, enter a number \")"
   ]
  },
  {
   "cell_type": "code",
   "execution_count": 47,
   "id": "8977987b",
   "metadata": {},
   "outputs": [
    {
     "name": "stdout",
     "output_type": "stream",
     "text": [
      "2 number is positive\n"
     ]
    }
   ],
   "source": [
    "if int(num4) > 0:\n",
    "    print(num4, \"number is positive\")\n",
    "elif int(num4) < 0:\n",
    "    print(num4, \"number is negative\")\n",
    "else:\n",
    "    print(num4, \"number is zero\")"
   ]
  },
  {
   "cell_type": "code",
   "execution_count": 48,
   "id": "c95155e7",
   "metadata": {},
   "outputs": [
    {
     "name": "stdout",
     "output_type": "stream",
     "text": [
      "Please, enter a number -5\n"
     ]
    }
   ],
   "source": [
    "num5 = input(\"Please, enter a number \")"
   ]
  },
  {
   "cell_type": "code",
   "execution_count": 49,
   "id": "6cf9d17d",
   "metadata": {},
   "outputs": [
    {
     "name": "stdout",
     "output_type": "stream",
     "text": [
      "-5 number is negative\n"
     ]
    }
   ],
   "source": [
    "if int(num5) > 0:\n",
    "    print(num5, \"number is positive\")\n",
    "elif int(num5) < 0:\n",
    "    print(num5, \"number is negative\")\n",
    "else:\n",
    "    print(num5, \"number is zero\")"
   ]
  },
  {
   "cell_type": "code",
   "execution_count": 54,
   "id": "d6173b4b",
   "metadata": {},
   "outputs": [
    {
     "name": "stdout",
     "output_type": "stream",
     "text": [
      "Please, enter a number 0\n"
     ]
    }
   ],
   "source": [
    "num6 = input(\"Please, enter a number \")"
   ]
  },
  {
   "cell_type": "code",
   "execution_count": 55,
   "id": "7055416a",
   "metadata": {},
   "outputs": [
    {
     "name": "stdout",
     "output_type": "stream",
     "text": [
      "0 number is zero\n"
     ]
    }
   ],
   "source": [
    "if int(num6) > 0:\n",
    "    print(num6, \"number is positive\")\n",
    "elif int(num6) < 0:\n",
    "    print(num6, \"number is negative\")\n",
    "else:\n",
    "    print(num6, \"number is zero\")"
   ]
  },
  {
   "cell_type": "markdown",
   "id": "7d04973d",
   "metadata": {},
   "source": [
    "1.3 grading"
   ]
  },
  {
   "cell_type": "code",
   "execution_count": 63,
   "id": "9c930516",
   "metadata": {},
   "outputs": [
    {
     "name": "stdout",
     "output_type": "stream",
     "text": [
      "Please, enter a mark 47\n"
     ]
    }
   ],
   "source": [
    "num7 = input(\"Please, enter a mark \")"
   ]
  },
  {
   "cell_type": "code",
   "execution_count": 64,
   "id": "5a0a3df1",
   "metadata": {},
   "outputs": [
    {
     "name": "stdout",
     "output_type": "stream",
     "text": [
      "grade is D\n"
     ]
    }
   ],
   "source": [
    "num=int(num7)\n",
    "if (num < 25):\n",
    "    print(\"grade is F\")\n",
    "elif (25 <= num < 45):\n",
    "    print(\"grade is E\")\n",
    "elif (45 <= num < 60):\n",
    "    print(\"grade is D\")\n",
    "elif (60 <= num < 75):\n",
    "    print(\"grade is C\")\n",
    "elif (75 <= num < 90):\n",
    "    print(\"grade is B\")\n",
    "elif (num >= 90):\n",
    "    print(\"grade is A\")"
   ]
  },
  {
   "cell_type": "code",
   "execution_count": 65,
   "id": "156ce10d",
   "metadata": {},
   "outputs": [
    {
     "name": "stdout",
     "output_type": "stream",
     "text": [
      "Please, enter a mark 99\n"
     ]
    }
   ],
   "source": [
    "num8 = input(\"Please, enter a mark \")"
   ]
  },
  {
   "cell_type": "code",
   "execution_count": 66,
   "id": "88455c63",
   "metadata": {},
   "outputs": [
    {
     "name": "stdout",
     "output_type": "stream",
     "text": [
      "grade is A\n"
     ]
    }
   ],
   "source": [
    "num=int(num8)\n",
    "if (num < 25):\n",
    "    print(\"grade is F\")\n",
    "elif (25 <= num < 45):\n",
    "    print(\"grade is E\")\n",
    "elif (45 <= num < 60):\n",
    "    print(\"grade is D\")\n",
    "elif (60 <= num < 75):\n",
    "    print(\"grade is C\")\n",
    "elif (75 <= num < 90):\n",
    "    print(\"grade is B\")\n",
    "elif (num >= 90):\n",
    "    print(\"grade is A\")"
   ]
  },
  {
   "cell_type": "code",
   "execution_count": 67,
   "id": "9f8f6bc5",
   "metadata": {},
   "outputs": [
    {
     "name": "stdout",
     "output_type": "stream",
     "text": [
      "Please, enter a mark 18\n"
     ]
    }
   ],
   "source": [
    "num9 = input(\"Please, enter a mark \")"
   ]
  },
  {
   "cell_type": "code",
   "execution_count": 68,
   "id": "d3bff1d4",
   "metadata": {},
   "outputs": [
    {
     "name": "stdout",
     "output_type": "stream",
     "text": [
      "grade is F\n"
     ]
    }
   ],
   "source": [
    "num=int(num9)\n",
    "if (num < 25):\n",
    "    print(\"grade is F\")\n",
    "elif (25 <= num < 45):\n",
    "    print(\"grade is E\")\n",
    "elif (45 <= num < 60):\n",
    "    print(\"grade is D\")\n",
    "elif (60 <= num < 75):\n",
    "    print(\"grade is C\")\n",
    "elif (75 <= num < 90):\n",
    "    print(\"grade is B\")\n",
    "elif (num >= 90):\n",
    "    print(\"grade is A\")"
   ]
  },
  {
   "cell_type": "code",
   "execution_count": null,
   "id": "752bbf3d",
   "metadata": {},
   "outputs": [],
   "source": []
  }
 ],
 "metadata": {
  "kernelspec": {
   "display_name": "Python 3 (ipykernel)",
   "language": "python",
   "name": "python3"
  },
  "language_info": {
   "codemirror_mode": {
    "name": "ipython",
    "version": 3
   },
   "file_extension": ".py",
   "mimetype": "text/x-python",
   "name": "python",
   "nbconvert_exporter": "python",
   "pygments_lexer": "ipython3",
   "version": "3.9.7"
  }
 },
 "nbformat": 4,
 "nbformat_minor": 5
}
