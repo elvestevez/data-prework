{
 "cells": [
  {
   "cell_type": "code",
   "execution_count": 4,
   "id": "c410d37d",
   "metadata": {},
   "outputs": [],
   "source": [
    "def generation_calculator(name, year):\n",
    "    if year < 1949:\n",
    "        generation = \"silent generation\"\n",
    "    elif year < 1969:\n",
    "        generation = \"baby boomer\"\n",
    "    elif year < 1981:\n",
    "        generation = \"X generation\"\n",
    "    elif year < 1994:\n",
    "        generation = \"millennial\"\n",
    "    else:\n",
    "        generation = \"Z generation\"\n",
    "        \n",
    "    return generation"
   ]
  },
  {
   "cell_type": "code",
   "execution_count": 5,
   "id": "0d130fc4",
   "metadata": {},
   "outputs": [],
   "source": [
    "name1 = \"Jonh\"\n",
    "birth_year1 = 1989\n",
    "\n",
    "name2 = \"Mari\"\n",
    "birth_year2 = 1995\n",
    "\n",
    "name3 = \"Mich\"\n",
    "birth_year3 = 1960\n"
   ]
  },
  {
   "cell_type": "code",
   "execution_count": 6,
   "id": "e767e09c",
   "metadata": {},
   "outputs": [
    {
     "data": {
      "text/plain": [
       "'millennial'"
      ]
     },
     "execution_count": 6,
     "metadata": {},
     "output_type": "execute_result"
    }
   ],
   "source": [
    "generation_calculator(name1, birth_year1)"
   ]
  },
  {
   "cell_type": "code",
   "execution_count": 8,
   "id": "355fdc2a",
   "metadata": {},
   "outputs": [
    {
     "data": {
      "text/plain": [
       "'Z generation'"
      ]
     },
     "execution_count": 8,
     "metadata": {},
     "output_type": "execute_result"
    }
   ],
   "source": [
    "generation_calculator(name2, birth_year2)"
   ]
  },
  {
   "cell_type": "code",
   "execution_count": 9,
   "id": "cc5a71a1",
   "metadata": {},
   "outputs": [
    {
     "data": {
      "text/plain": [
       "'baby boomer'"
      ]
     },
     "execution_count": 9,
     "metadata": {},
     "output_type": "execute_result"
    }
   ],
   "source": [
    "generation_calculator(name3, birth_year3)"
   ]
  },
  {
   "cell_type": "code",
   "execution_count": null,
   "id": "ba2e69c0",
   "metadata": {},
   "outputs": [],
   "source": []
  }
 ],
 "metadata": {
  "kernelspec": {
   "display_name": "Python 3 (ipykernel)",
   "language": "python",
   "name": "python3"
  },
  "language_info": {
   "codemirror_mode": {
    "name": "ipython",
    "version": 3
   },
   "file_extension": ".py",
   "mimetype": "text/x-python",
   "name": "python",
   "nbconvert_exporter": "python",
   "pygments_lexer": "ipython3",
   "version": "3.9.7"
  }
 },
 "nbformat": 4,
 "nbformat_minor": 5
}
