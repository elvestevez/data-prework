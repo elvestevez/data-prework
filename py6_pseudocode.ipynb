{
 "cells": [
  {
   "cell_type": "markdown",
   "id": "6945860a",
   "metadata": {},
   "source": [
    "## exercise"
   ]
  },
  {
   "cell_type": "raw",
   "id": "28707782",
   "metadata": {},
   "source": [
    "# spells\n",
    "gandalf = [10, 11, 13, 30, 22, 11, 10, 33, 22, 22]\n",
    "saruman = [23, 66, 12, 43, 12, 10, 44, 23, 12, 17]\n",
    "\n",
    "gandalf_win = number of wins gandalf\n",
    "saruman_win = number of wins saruman\n",
    "if size gandalf < size saruman\n",
    "   num_battels =size gandalf\n",
    "else\n",
    "   num_battels =size saruman\n",
    "\n",
    "for i to num_battles\n",
    "    if gandalf[i] > saruman[i]\n",
    "        gandalf_win += 1\n",
    "    else if gandalf[i] < saruman[i]\n",
    "        saruman_win += 1\n",
    "\n",
    "if gandalf_win > saruman_win\n",
    "    print Gandalf wins\n",
    "else if gandalf_win > saruman_win\n",
    "    print Saruman wins\n",
    "else\n",
    "    print Tie\n"
   ]
  },
  {
   "cell_type": "code",
   "execution_count": 12,
   "id": "a7606755",
   "metadata": {},
   "outputs": [],
   "source": [
    "gandalf = [10, 11, 13, 30, 22, 11, 10, 33, 22, 22]\n",
    "saruman = [23, 66, 12, 43, 12, 10, 44, 23, 12, 17]"
   ]
  },
  {
   "cell_type": "code",
   "execution_count": 13,
   "id": "0ffe8c42",
   "metadata": {},
   "outputs": [
    {
     "name": "stdout",
     "output_type": "stream",
     "text": [
      "Gandalf wins\n"
     ]
    }
   ],
   "source": [
    "gandalf = [10, 11, 13, 30, 22, 11, 10, 33, 22, 22]\n",
    "saruman = [23, 66, 12, 43, 12, 10, 44, 23, 12, 17]\n",
    "\n",
    "gandalf_win = 0\n",
    "saruman_win = 0\n",
    "num_battels = 0\n",
    "if len(gandalf) < len(saruman):\n",
    "   num_battels = len(gandalf)\n",
    "else:\n",
    "   num_battels = len(saruman)\n",
    "\n",
    "for i in range(num_battels):\n",
    "    if gandalf[i] > saruman[i]:\n",
    "        gandalf_win += 1\n",
    "    elif gandalf[i] < saruman[i]:\n",
    "        saruman_win += 1\n",
    "\n",
    "if gandalf_win > saruman_win:\n",
    "    print(\"Gandalf wins\")\n",
    "elif gandalf_win > saruman_win:\n",
    "    print(\"Saruman wins\")\n",
    "else:\n",
    "    print(\"Tie\")\n"
   ]
  },
  {
   "cell_type": "code",
   "execution_count": null,
   "id": "7554084c",
   "metadata": {},
   "outputs": [],
   "source": []
  }
 ],
 "metadata": {
  "kernelspec": {
   "display_name": "Python 3 (ipykernel)",
   "language": "python",
   "name": "python3"
  },
  "language_info": {
   "codemirror_mode": {
    "name": "ipython",
    "version": 3
   },
   "file_extension": ".py",
   "mimetype": "text/x-python",
   "name": "python",
   "nbconvert_exporter": "python",
   "pygments_lexer": "ipython3",
   "version": "3.9.7"
  }
 },
 "nbformat": 4,
 "nbformat_minor": 5
}
