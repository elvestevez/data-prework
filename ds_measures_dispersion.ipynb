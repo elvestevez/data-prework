{
 "cells": [
  {
   "cell_type": "markdown",
   "id": "90892fba",
   "metadata": {},
   "source": [
    "1.1 exercise"
   ]
  },
  {
   "cell_type": "code",
   "execution_count": 3,
   "id": "f74cef97",
   "metadata": {},
   "outputs": [
    {
     "name": "stdout",
     "output_type": "stream",
     "text": [
      "range is 29\n"
     ]
    }
   ],
   "source": [
    "points = [-4, 17, 25, 19, 6, 11, 7]\n",
    "mininum = min(points)\n",
    "maximum = max(points)\n",
    "result_range = maximum - mininum\n",
    "print(\"range is\", result_range)"
   ]
  },
  {
   "cell_type": "markdown",
   "id": "9f8cae86",
   "metadata": {},
   "source": [
    "1.2 exercise"
   ]
  },
  {
   "cell_type": "code",
   "execution_count": 8,
   "id": "0cce38b7",
   "metadata": {},
   "outputs": [
    {
     "data": {
      "text/plain": [
       "2.804757862395017"
      ]
     },
     "execution_count": 8,
     "metadata": {},
     "output_type": "execute_result"
    }
   ],
   "source": [
    "import statistics as stats\n",
    "data = [2,4,7,1,6,8]\n",
    "stats.stdev(data)"
   ]
  },
  {
   "cell_type": "code",
   "execution_count": 9,
   "id": "3dab2273",
   "metadata": {},
   "outputs": [
    {
     "data": {
      "text/plain": [
       "4.666666666666667"
      ]
     },
     "execution_count": 9,
     "metadata": {},
     "output_type": "execute_result"
    }
   ],
   "source": [
    "stats.mean(data)"
   ]
  },
  {
   "cell_type": "code",
   "execution_count": 10,
   "id": "96d13394",
   "metadata": {},
   "outputs": [
    {
     "data": {
      "text/plain": [
       "4.131182235954578"
      ]
     },
     "execution_count": 10,
     "metadata": {},
     "output_type": "execute_result"
    }
   ],
   "source": [
    "import statistics as stats\n",
    "data = [2,4,7,1,12,8]\n",
    "stats.stdev(data)"
   ]
  },
  {
   "cell_type": "code",
   "execution_count": 11,
   "id": "62c62256",
   "metadata": {},
   "outputs": [
    {
     "data": {
      "text/plain": [
       "5.666666666666667"
      ]
     },
     "execution_count": 11,
     "metadata": {},
     "output_type": "execute_result"
    }
   ],
   "source": [
    "stats.mean(data)"
   ]
  },
  {
   "cell_type": "markdown",
   "id": "13e5719a",
   "metadata": {},
   "source": [
    "1.3 exercise"
   ]
  },
  {
   "cell_type": "code",
   "execution_count": 15,
   "id": "04fa220c",
   "metadata": {},
   "outputs": [
    {
     "data": {
      "text/plain": [
       "0.0"
      ]
     },
     "execution_count": 15,
     "metadata": {},
     "output_type": "execute_result"
    }
   ],
   "source": [
    "import statistics as stats\n",
    "data = [2,2,2,2,2,2]\n",
    "stats.stdev(data)"
   ]
  },
  {
   "cell_type": "markdown",
   "id": "bf938843",
   "metadata": {},
   "source": [
    "1.4 exercise"
   ]
  },
  {
   "cell_type": "code",
   "execution_count": 22,
   "id": "4a70e19d",
   "metadata": {},
   "outputs": [],
   "source": [
    "# in a set of data is the distance of each number from the mean\n",
    "# it is calculated as the square root of the variance\n",
    "# cannot be negative, the calculation is based on a square which always gives a positive"
   ]
  },
  {
   "cell_type": "markdown",
   "id": "67dcbc56",
   "metadata": {},
   "source": [
    "1.5 exercise"
   ]
  },
  {
   "cell_type": "code",
   "execution_count": 23,
   "id": "e94c88a0",
   "metadata": {},
   "outputs": [
    {
     "name": "stdout",
     "output_type": "stream",
     "text": [
      "value: 23 ; deviation from the mean: 18.5\n",
      "value: 12 ; deviation from the mean: 29.5\n",
      "value: 34 ; deviation from the mean: 7.5\n",
      "value: 65 ; deviation from the mean: 23.5\n",
      "value: 34 ; deviation from the mean: 7.5\n",
      "value: 81 ; deviation from the mean: 39.5\n"
     ]
    }
   ],
   "source": [
    "import statistics as stats\n",
    "data = [23, 12, 34, 65, 34, 81]\n",
    "mean_data =stats.mean(data)\n",
    "for i in data:\n",
    "    print(\"value:\", i, \"; deviation from the mean:\", abs(i-mean_data))"
   ]
  },
  {
   "cell_type": "markdown",
   "id": "78ca78d2",
   "metadata": {},
   "source": [
    "1.6 exercise"
   ]
  },
  {
   "cell_type": "code",
   "execution_count": 24,
   "id": "25ab7a09",
   "metadata": {},
   "outputs": [
    {
     "name": "stdout",
     "output_type": "stream",
     "text": [
      "mean_data: 81 ; variance: 687.5 ; 26.22022120425379\n"
     ]
    }
   ],
   "source": [
    "import statistics as stats\n",
    "data = [23, 12, 34, 65, 34, 81]\n",
    "mean_data =stats.mean(data)\n",
    "variance_data =stats.variance(data)\n",
    "dev_data =stats.stdev(data)\n",
    "print(\"mean_data:\", i, \"; variance:\", variance_data, \";\", dev_data)"
   ]
  },
  {
   "cell_type": "code",
   "execution_count": 25,
   "id": "5ebe231b",
   "metadata": {},
   "outputs": [
    {
     "name": "stdout",
     "output_type": "stream",
     "text": [
      "sqrt of variance_data: 26.22022120425379\n"
     ]
    }
   ],
   "source": [
    "import math\n",
    "sqrt_variance = math.sqrt(variance_data)\n",
    "print(\"sqrt of variance_data:\", sqrt_variance)"
   ]
  },
  {
   "cell_type": "code",
   "execution_count": 26,
   "id": "f6585029",
   "metadata": {},
   "outputs": [],
   "source": [
    "#standard deviation is square root of variance"
   ]
  },
  {
   "cell_type": "code",
   "execution_count": null,
   "id": "325326d3",
   "metadata": {},
   "outputs": [],
   "source": []
  }
 ],
 "metadata": {
  "kernelspec": {
   "display_name": "Python 3 (ipykernel)",
   "language": "python",
   "name": "python3"
  },
  "language_info": {
   "codemirror_mode": {
    "name": "ipython",
    "version": 3
   },
   "file_extension": ".py",
   "mimetype": "text/x-python",
   "name": "python",
   "nbconvert_exporter": "python",
   "pygments_lexer": "ipython3",
   "version": "3.9.7"
  }
 },
 "nbformat": 4,
 "nbformat_minor": 5
}
